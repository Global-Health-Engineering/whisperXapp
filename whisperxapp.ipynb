{
 "cells": [
  {
   "cell_type": "code",
   "execution_count": 1,
   "id": "d03307d4",
   "metadata": {},
   "outputs": [
    {
     "data": {
      "application/vnd.jupyter.widget-view+json": {
       "model_id": "c8b324e424034cbfbecfce5de2215183",
       "version_major": 2,
       "version_minor": 0
      },
      "text/plain": [
       "VBox(children=(FileUpload(value=(), description='Upload Audio', layout=Layout(margin='5px 0', width='90%')), D…"
      ]
     },
     "metadata": {},
     "output_type": "display_data"
    },
    {
     "data": {
      "application/vnd.jupyter.widget-view+json": {
       "model_id": "2399e327507041fcb59623c792084a91",
       "version_major": 2,
       "version_minor": 0
      },
      "text/plain": [
       "VBox(children=(Dropdown(description='Model:', index=17, layout=Layout(margin='5px 0', width='90%'), options=('…"
      ]
     },
     "metadata": {},
     "output_type": "display_data"
    },
    {
     "data": {
      "application/vnd.jupyter.widget-view+json": {
       "model_id": "ec1993d880154402bada0373b7e04e26",
       "version_major": 2,
       "version_minor": 0
      },
      "text/plain": [
       "VBox(children=(Button(description='Run Transcription', layout=Layout(margin='5px 0', width='90%'), style=Butto…"
      ]
     },
     "metadata": {},
     "output_type": "display_data"
    }
   ],
   "source": [
    "from whisperxapp.core import execute\n",
    "execute()"
   ]
  }
 ],
 "metadata": {
  "kernelspec": {
   "display_name": "venv3.11_whisperxapp",
   "language": "python",
   "name": "venv3.11_whisperxapp"
  },
  "language_info": {
   "codemirror_mode": {
    "name": "ipython",
    "version": 3
   },
   "file_extension": ".py",
   "mimetype": "text/x-python",
   "name": "python",
   "nbconvert_exporter": "python",
   "pygments_lexer": "ipython3",
   "version": "3.11.12"
  }
 },
 "nbformat": 4,
 "nbformat_minor": 5
}
